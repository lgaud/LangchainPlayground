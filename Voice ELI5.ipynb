{
 "cells": [
  {
   "cell_type": "markdown",
   "id": "df53d9fd",
   "metadata": {},
   "source": [
    "# Voice ELI5\n",
    "This notebook uses Azure Speech APIs and an OpenAI LLM via LangChain to answer questions for a 5 year old!\n",
    "\n",
    "Running the last cell will listen for audio input from your microphone.\n",
    "\n",
    "## Requirements:\n",
    "### Libraries\n",
    "- langchain\n",
    "- azure-cognitiveservices-speech\n",
    "\n",
    "\n",
    "### Environment Variables\n",
    "- OPENAI_API_KEY  : Open AI API Key for LLM\n",
    "- AZURE_COGS_KEY  : Azure Cognitive Services or Speech API key\n",
    "- AZURE_COGS_REGION  : Azure Cognitive Services or Speech API region\n"
   ]
  },
  {
   "cell_type": "markdown",
   "id": "37e8340e",
   "metadata": {},
   "source": [
    "# Speech SDK Functions"
   ]
  },
  {
   "cell_type": "code",
   "execution_count": 1,
   "id": "29344d7d",
   "metadata": {},
   "outputs": [],
   "source": [
    "import os\n",
    "import azure.cognitiveservices.speech as speechsdk\n",
    "\n",
    "class SpeechAPI():\n",
    "    def __init__(self, verbose=False):\n",
    "        self.speech_config = speechsdk.SpeechConfig(subscription=os.environ[\"AZURE_COGS_KEY\"], region=os.environ[\"AZURE_COGS_REGION\"])\n",
    "        self.speech_config.speech_recognition_language=\"en-CA\"\n",
    "        self.speech_config.speech_synthesis_voice_name='en-CA-LiamNeural'\n",
    "        self.verbose = verbose\n",
    "\n",
    "    def recognize_from_microphone(self):\n",
    "        # Adapted from Speech to Text Quickstart: \n",
    "        # https://learn.microsoft.com/en-us/azure/cognitive-services/speech-service/get-started-speech-to-text?tabs=linux%2Cterminal&pivots=programming-language-python\n",
    "        audio_config = speechsdk.audio.AudioConfig(use_default_microphone=True)\n",
    "        speech_recognizer = speechsdk.SpeechRecognizer(speech_config=self.speech_config, audio_config=audio_config)\n",
    "\n",
    "        print(\"Speak into your microphone.\")\n",
    "        speech_recognition_result = speech_recognizer.recognize_once_async().get()\n",
    "\n",
    "        if speech_recognition_result.reason == speechsdk.ResultReason.RecognizedSpeech:\n",
    "            if(self.verbose):\n",
    "                print(\"Recognized: {}\".format(speech_recognition_result.text))\n",
    "            return speech_recognition_result.text\n",
    "        elif speech_recognition_result.reason == speechsdk.ResultReason.NoMatch:\n",
    "            print(\"No speech could be recognized: {}\".format(speech_recognition_result.no_match_details))\n",
    "        elif speech_recognition_result.reason == speechsdk.ResultReason.Canceled:\n",
    "            cancellation_details = speech_recognition_result.cancellation_details\n",
    "            print(\"Speech Recognition canceled: {}\".format(cancellation_details.reason))\n",
    "            if cancellation_details.reason == speechsdk.CancellationReason.Error:\n",
    "                print(\"Error details: {}\".format(cancellation_details.error_details))\n",
    "                print(\"Did you set the speech resource key and region values?\")\n",
    "\n",
    "    def text_to_speech(self, text):\n",
    "        # Adapted from Text to Speech Quickstart\n",
    "        # https://learn.microsoft.com/en-us/azure/cognitive-services/speech-service/get-started-text-to-speech?tabs=linux%2Cterminal&pivots=programming-language-python\n",
    "        audio_config = speechsdk.audio.AudioOutputConfig(use_default_speaker=True)\n",
    "\n",
    "        speech_synthesizer = speechsdk.SpeechSynthesizer(speech_config=self.speech_config, audio_config=audio_config)\n",
    "\n",
    "        speech_synthesis_result = speech_synthesizer.speak_text_async(text).get()\n",
    "\n",
    "        if speech_synthesis_result.reason == speechsdk.ResultReason.SynthesizingAudioCompleted:\n",
    "            if(self.verbose):\n",
    "                print(\"Speech synthesized for text [{}]\".format(text))\n",
    "        elif speech_synthesis_result.reason == speechsdk.ResultReason.Canceled:\n",
    "            cancellation_details = speech_synthesis_result.cancellation_details\n",
    "            print(\"Speech synthesis canceled: {}\".format(cancellation_details.reason))\n",
    "            if cancellation_details.reason == speechsdk.CancellationReason.Error:\n",
    "                if cancellation_details.error_details:\n",
    "                    print(\"Error details: {}\".format(cancellation_details.error_details))\n",
    "                    print(\"Did you set the speech resource key and region values?\")"
   ]
  },
  {
   "cell_type": "code",
   "execution_count": 2,
   "id": "d0fef477",
   "metadata": {},
   "outputs": [],
   "source": [
    "from langchain.llms import OpenAI\n",
    "from langchain.prompts import PromptTemplate\n",
    "from langchain.chains import LLMChain\n",
    "\n",
    "\n",
    "class Eli5Runner():\n",
    "    def __init__(self, verbose=False):\n",
    "        llm = OpenAI(temperature=0)\n",
    "        prompt = PromptTemplate(\n",
    "            input_variables=[\"question\"], \n",
    "            template=\"Give a short answer understandable by a 5 year old to the following question: {question}\")\n",
    "        self.chain = LLMChain(llm=llm, prompt=prompt)\n",
    "        self.speechAPI = SpeechAPI(verbose)\n",
    "        \n",
    "    def run(self):\n",
    "        input_text = self.speechAPI.recognize_from_microphone()\n",
    "        response_text = self.chain.run(input_text)\n",
    "        self.speechAPI.text_to_speech(response_text)"
   ]
  },
  {
   "cell_type": "code",
   "execution_count": 3,
   "id": "27efe90f",
   "metadata": {},
   "outputs": [],
   "source": [
    "explainer = Eli5Runner()"
   ]
  },
  {
   "cell_type": "code",
   "execution_count": 4,
   "id": "20f69751",
   "metadata": {},
   "outputs": [
    {
     "name": "stdout",
     "output_type": "stream",
     "text": [
      "Speak into your microphone.\n"
     ]
    }
   ],
   "source": [
    "explainer.run()"
   ]
  }
 ],
 "metadata": {
  "kernelspec": {
   "display_name": "Python 3 (ipykernel)",
   "language": "python",
   "name": "python3"
  },
  "language_info": {
   "codemirror_mode": {
    "name": "ipython",
    "version": 3
   },
   "file_extension": ".py",
   "mimetype": "text/x-python",
   "name": "python",
   "nbconvert_exporter": "python",
   "pygments_lexer": "ipython3",
   "version": "3.10.10"
  }
 },
 "nbformat": 4,
 "nbformat_minor": 5
}
